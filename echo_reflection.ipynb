{
 "cells": [
  {
   "cell_type": "markdown",
   "metadata": {},
   "source": [
    "# \ud83e\udde0 ECHO.core Interactive Workbench\n",
    "This Jupyter Notebook provides a comprehensive and interactive environment for exploring, debugging, and extending the `urboi-jereme/ECHO.core` framework.\n",
    "It allows you to:\n",
    "- **Understand the Architecture**: Navigate and interact with various components of ECHO.core.\n",
    "- **Inspect Memory**: Load and view the real-time state of agents, goals, and motifs.\n",
    "- **Engage with Agents**: Run individual ECHO agents (Intuition, Navigator, Critic, Curiosity) and observe their outputs.\n",
    "- **Simulate Workflows**: Execute sequences of operations, like logging reflections or running diagnostic checks.\n",
    "- **Visualize Data**: Gain insights into motif pressure and other dynamic states.\n",
    "- **Integrate with Git**: Understand how to manage your local codebase and notebook changes with Git.\n",
    "\n",
    "---"
   ]
  },
  {
   "cell_type": "markdown",
   "metadata": {},
   "source": [
    "## \ud83d\ude80 1. Setup & Environment\n",
    "First, we'll set up the environment by importing necessary libraries and defining the project root path. This ensures all file operations and module imports work correctly, assuming you're running this notebook from the root of the `ECHO.core` repository."
   ]
  },
  {
   "cell_type": "code",
   "metadata": {},
   "source": [
    "# 1.1 Imports and Path Setup\n",
    "import os\n",
    "from datetime import datetime\n",
    "from IPython.display import display, Markdown, HTML\n",
    "import matplotlib.pyplot as plt\n",
    "import pandas as pd\n",
    "\n",
    "from notebooks.setup import (\n",
    "    setup_paths,\n",
    "    verify_structure,\n",
    "    load_yaml,\n",
    "    save_yaml,\n",
    "    append_yaml_list,\n",
    ")\n",
    "\n",
    "paths = setup_paths()\n",
    "PROJECT_ROOT = paths[\"PROJECT_ROOT\"]\n",
    "ECHO_MEMORY_PATH = paths[\"ECHO_MEMORY_PATH\"]\n",
    "MOTIF_PRESSURE_PATH = paths[\"MOTIF_PRESSURE_PATH\"]\n",
    "AGENT_STATE_PATH = paths[\"AGENT_STATE_PATH\"]\n",
    "GOALS_PATH = paths[\"GOALS_PATH\"]\n",
    "META_PREFERENCES_PATH = paths[\"META_PREFERENCES_PATH\"]\n",
    "RECURSIVE_ALIGNMENTS_PATH = paths[\"RECURSIVE_ALIGNMENTS_PATH\"]\n",
    "JOURNAL_LOG_PATH = paths[\"JOURNAL_LOG_PATH\"]\n",
    "\n",
    "verify_structure(PROJECT_ROOT)\n"
   ]
  },
  {
   "cell_type": "markdown",
   "metadata": {},
   "source": [
    "## \u2699\ufe0f 2. Core Utility Functions\n",
    "These helper functions simplify loading and saving the YAML-based memory files, which are central to ECHO.core's state management."
   ]
  },
  {
   "cell_type": "code",
   "metadata": {},
   "source": [
    "# 2.1 Helper functions for YAML operations\n",
    "# (provided by notebooks.setup)\n"
   ]
  },
  {
   "cell_type": "markdown",
   "metadata": {},
   "source": [
    "## \ud83d\udcbe 3. Exploring Memory State\n",
    "ECHO.core's internal state is persisted across various YAML files in the `memory/` directory. This section demonstrates how to load and inspect these crucial memory components."
   ]
  },
  {
   "cell_type": "code",
   "metadata": {},
   "source": [
    "# 3.1 Load and Display AGENT_STATE.yaml\n",
    "agent_state = load_yaml(AGENT_STATE_PATH)\n",
    "display(Markdown(\"### \ud83d\udee0\ufe0f Agent State (`AGENT_STATE.yaml`)\"))\n",
    "display(pd.DataFrame.from_dict(agent_state, orient='index', columns=['Weight']))\n"
   ]
  },
  {
   "cell_type": "code",
   "metadata": {},
   "source": [
    "# 3.2 Load and Display ECHO_MEMORY.yaml\n",
    "echo_memory = load_yaml(ECHO_MEMORY_PATH)\n",
    "display(Markdown(\"### \ud83d\udcad ECHO Memory (`ECHO_MEMORY.yaml`)\"))\n",
    "if echo_memory:\n",
    "    # Convert to DataFrame for better readability\n",
    "    df_echo_memory = pd.DataFrame(echo_memory)\n",
    "    display(df_echo_memory.head())\n",
    "else:\n",
    "    print(\"ECHO_MEMORY.yaml is empty or could not be loaded.\")\n"
   ]
  },
  {
   "cell_type": "code",
   "metadata": {},
   "source": [
    "# 3.3 Load and Display GOALS.yaml\n",
    "goals = load_yaml(GOALS_PATH)\n",
    "display(Markdown(\"### \ud83c\udfaf Goals (`GOALS.yaml`)\"))\n",
    "if goals:\n",
    "    df_goals = pd.DataFrame(goals)\n",
    "    display(df_goals)\n",
    "else:\n",
    "    print(\"GOALS.yaml is empty or could not be loaded.\")\n"
   ]
  },
  {
   "cell_type": "code",
   "metadata": {},
   "source": [
    "# 3.4 Load and Display MOTIF_PRESSURE.yaml\n",
    "motif_pressure = load_yaml(MOTIF_PRESSURE_PATH)\n",
    "display(Markdown(\"### \ud83d\udcc8 Motif Pressure (`MOTIF_PRESSURE.yaml`)\"))\n",
    "if motif_pressure:\n",
    "    # Ensure motif_pressure is treated as a dictionary for DataFrame conversion\n",
    "    if 'motif_pressure' in motif_pressure and isinstance(motif_pressure['motif_pressure'], dict):\n",
    "        display(pd.DataFrame.from_dict(motif_pressure['motif_pressure'], orient='index', columns=['Pressure']))\n",
    "    elif isinstance(motif_pressure, dict):\n",
    "        display(pd.DataFrame.from_dict(motif_pressure, orient='index', columns=['Pressure']))\n",
    "    else:\n",
    "        print(\"MOTIF_PRESSURE.yaml has an unexpected structure.\")\n",
    "else:\n",
    "    print(\"MOTIF_PRESSURE.yaml is empty or could not be loaded.\")\n"
   ]
  },
  {
   "cell_type": "code",
   "metadata": {},
   "source": [
    "# 3.5 Load and Display META_PREFERENCES.yaml\n",
    "meta_preferences = load_yaml(META_PREFERENCES_PATH)\n",
    "display(Markdown(\"### \u2699\ufe0f Meta Preferences (`META_PREFERENCES.yaml`)\"))\n",
    "if meta_preferences:\n",
    "    display(meta_preferences)\n",
    "else:\n",
    "    print(\"META_PREFERENCES.yaml is empty or could not be loaded.\")\n"
   ]
  },
  {
   "cell_type": "code",
   "metadata": {},
   "source": [
    "# 3.6 Load and Display RECURSIVE_ALIGNMENTS.yaml\n",
    "recursive_alignments = load_yaml(RECURSIVE_ALIGNMENTS_PATH)\n",
    "display(Markdown(\"### \ud83d\udd17 Recursive Alignments (`RECURSIVE_ALIGNMENTS.yaml`)\"))\n",
    "if recursive_alignments and 'recursive_alignments' in recursive_alignments:\n",
    "    df_alignments = pd.DataFrame(recursive_alignments['recursive_alignments'])\n",
    "    display(df_alignments.head())\n",
    "else:\n",
    "    print(\"RECURSIVE_ALIGNMENTS.yaml is empty or could not be loaded, or 'recursive_alignments' key is missing.\")\n"
   ]
  },
  {
   "cell_type": "markdown",
   "metadata": {},
   "source": [
    "## \ud83e\udd16 4. Interacting with Individual Agents\n",
    "This section demonstrates how to instantiate and interact with various ECHO.core agents directly. This is useful for testing specific agent functionalities in isolation."
   ]
  },
  {
   "cell_type": "code",
   "metadata": {},
   "source": [
    "# 4.1 IntuitionAgent: Detect Symbolic Resonance\n",
    "# Note: IntuitionAgent's `get_resonant_tags` currently relies on a dummy implementation.\n",
    "# For a real scenario, ECHO_MEMORY.yaml would be processed to find actual resonances.\n",
    "\n",
    "from agents.intuition import IntuitionAgent\n",
    "\n",
    "display(Markdown(\"### IntuitionAgent Output\"))\n",
    "try:\n",
    "    intuition_agent = IntuitionAgent()\n",
    "    resonant_tags = intuition_agent.get_resonant_tags() # This calls a dummy method based on the agent's init\n",
    "    print(\"Generated Resonant Tags:\")\n",
    "    for tag_info in resonant_tags:\n",
    "        print(f\"- {tag_info['tag']} (Resonance: {tag_info['avg_resonance']:.2f}, Count: {tag_info['count']})\")\n",
    "except Exception as e:\n",
    "    print(f\"Error initializing or using IntuitionAgent: {e}\")\n"
   ]
  },
  {
   "cell_type": "code",
   "metadata": {},
   "source": [
    "# 4.2 NavigatorAgent: Propose Next Steps\n",
    "from agents.navigator import NavigatorAgent\n",
    "\n",
    "display(Markdown(\"### NavigatorAgent Output\"))\n",
    "try:\n",
    "    navigator_agent = NavigatorAgent()\n",
    "    # The NavigatorAgent currently uses static data or simple logic.\n",
    "    # In a full ECHO.core loop, it would receive input from IntuitionAgent.\n",
    "    proposed_prompts = navigator_agent.get_next_prompt_targets()\n",
    "    architectural_suggestions = navigator_agent.get_next_architectural_actions()\n",
    "\n",
    "    print(\"Proposed Prompts:\")\n",
    "    for p in proposed_prompts:\n",
    "        print(f\"- {p}\")\n",
    "\n",
    "    print(\"\\nArchitectural Suggestions:\")\n",
    "    for a in architectural_suggestions:\n",
    "        print(f\"- {a}\")\n",
    "except Exception as e:\n",
    "    print(f\"Error initializing or using NavigatorAgent: {e}\")\n"
   ]
  },
  {
   "cell_type": "code",
   "metadata": {},
   "source": [
    "# 4.3 CuriosityAgent: Generate Introspective Questions\n",
    "from agents.curiosity_agent import CuriosityAgent\n",
    "\n",
    "display(Markdown(\"### CuriosityAgent Output\"))\n",
    "try:\n",
    "    curiosity_agent = CuriosityAgent()\n",
    "    # The CuriosityAgent generates questions, potentially based on unresolved motifs.\n",
    "    curiosity_questions = curiosity_agent.generate_questions()\n",
    "\n",
    "    print(\"Generated Curiosity Questions:\")\n",
    "    for q in curiosity_questions:\n",
    "        print(f\"- {q}\")\n",
    "except Exception as e:\n",
    "    print(f\"Error initializing or using CuriosityAgent: {e}\")\n"
   ]
  },
  {
   "cell_type": "code",
   "metadata": {},
   "source": [
    "# 4.4 CriticAgent: Inject Symbolic Friction\n",
    "from agents.critic import CriticAgent\n",
    "\n",
    "display(Markdown(\"### CriticAgent Output\"))\n",
    "try:\n",
    "    critic_agent = CriticAgent()\n",
    "\n",
    "    # Example usage: critique a motif and a prompt\n",
    "    sample_motif = \"recursive_cognition\"\n",
    "    sample_prompt = \"Explore the emergent properties of recursive cognitive loops.\"\n",
    "\n",
    "    motif_critique = critic_agent.critique_motif(sample_motif)\n",
    "    prompt_critique = critic_agent.critique_prompt(sample_prompt)\n",
    "\n",
    "    print(f\"Critique for Motif '{sample_motif}':\\n- {motif_critique}\")\n",
    "    print(f\"\\nCritique for Prompt:\\n- {prompt_critique}\")\n",
    "except Exception as e:\n",
    "    print(f\"Error initializing or using CriticAgent: {e}\")\n"
   ]
  },
  {
   "cell_type": "code",
   "metadata": {},
   "source": [
    "# 4.5 ModulatorAgent: Adjust Agent Weights\n",
    "# The ModulatorAgent's core function is to modify AGENT_STATE.yaml.\n",
    "# We'll demonstrate its effect by running it and then re-loading the state.\n",
    "from agents.modulator import ModulatorAgent\n",
    "from memory.alignments import log_alignment # Modulator uses this indirectly for feedback\n",
    "\n",
    "display(Markdown(\"### ModulatorAgent Action\"))\n",
    "\n",
    "try:\n",
    "    # Initialize Modulator (it will load its necessary configs)\n",
    "    modulator_agent = ModulatorAgent()\n",
    "\n",
    "    print(\"Initial Agent State (before modulation):\")\n",
    "    initial_agent_state = load_yaml(AGENT_STATE_PATH)\n",
    "    display(pd.DataFrame.from_dict(initial_agent_state, orient='index', columns=['Weight']))\n",
    "\n",
    "    print(\"\\nSimulating modulation (e.g., feedback for 'overfitting' or 'coherence')...\")\n",
    "    # You can simulate feedback here to trigger modulation rules.\n",
    "    # For a direct example, let's call the internal adjust_weights method directly \n",
    "    # with some dummy feedback that might trigger a rule.\n",
    "    # In a real daemon loop, this would come from echo_feedback.py or similar.\n",
    "    feedback_example = {\n",
    "        \"motif\": \"emergent_intelligence\",\n",
    "        \"feedback_type\": \"critique\",\n",
    "        \"content\": \"The recent insights feel a bit too aligned, lacking sufficient friction.\"\n",
    "    }\n",
    "    # Normally, log_alignment would be called by echo_feedback.py, which in turn\n",
    "    # would be processed by ModulatorAgent based on meta-preferences.\n",
    "    # For this demo, we will simulate the effect of modulation directly.\n",
    "\n",
    "    # Re-instantiate the modulator to ensure it reads the latest meta-preferences if changed\n",
    "    modulator_agent = ModulatorAgent()\n",
    "    modulator_agent.adjust_weights() # This method processes existing feedback/rules\n",
    "\n",
    "    print(\"\\nAgent State (after modulation attempt):\")\n",
    "    updated_agent_state = load_yaml(AGENT_STATE_PATH)\n",
    "    display(pd.DataFrame.from_dict(updated_agent_state, orient='index', columns=['Weight']))\n",
    "\n",
    "    # You can compare initial_agent_state and updated_agent_state to see changes\n",
    "except Exception as e:\n",
    "    print(f\"Error initializing or using ModulatorAgent: {e}\")\n"
   ]
  },
  {
   "cell_type": "code",
   "metadata": {},
   "source": [
    "# 4.6 MotifPressureTracker: Update Motif Pressure\n",
    "# This script calculates and updates motif pressure in MOTIF_PRESSURE.yaml.\n",
    "# It needs to be run to reflect the latest state of motifs.\n",
    "\n",
    "from agents.motif_pressure_tracker import MotifPressureTracker\n",
    "\n",
    "display(Markdown(\"### MotifPressureTracker Action\"))\n",
    "\n",
    "try:\n",
    "    print(\"Calculating and updating motif pressure...\")\n",
    "    tracker = MotifPressureTracker() # This initializes and runs the tracking logic\n",
    "    print(\"Motif pressure updated.\")\n",
    "\n",
    "    # Display updated motif pressure\n",
    "    motif_pressure_updated = load_yaml(MOTIF_PRESSURE_PATH)\n",
    "    if motif_pressure_updated and 'motif_pressure' in motif_pressure_updated:\n",
    "        display(pd.DataFrame.from_dict(motif_pressure_updated['motif_pressure'], orient='index', columns=['Pressure']))\n",
    "    else:\n",
    "        print(\"MOTIF_PRESSURE.yaml is empty or could not be loaded after update.\")\n",
    "\n",
    "except Exception as e:\n",
    "    print(f\"Error running MotifPressureTracker: {e}\")\n"
   ]
  },
  {
   "cell_type": "markdown",
   "metadata": {},
   "source": [
    "## \ud83d\udd04 5. Simulating Workflows & Automations\n",
    "This section demonstrates how to orchestrate multiple ECHO.core components to perform higher-level workflows, similar to how `echo_main.py` or `echo_daemon.py` operate."
   ]
  },
  {
   "cell_type": "code",
   "metadata": {},
   "source": [
    "# 5.1 Log a New Reflection (Enhanced `log_reflection.py` functionality)\n",
    "\n",
    "display(Markdown(\"### Log a New Reflection\"))\n",
    "\n",
    "# --- User Input (modify these variables) ---\n",
    "reflection_motif = \"symbolic_emergence\" # Choose an existing or new motif\n",
    "reflection_content = \"I'm reflecting on how complex symbolic patterns emerge from simple interactions, noting the recursive nature of self-organization.\" # Your reflection here\n",
    "reflection_source = \"notebook_user\"\n",
    "# ------------------------------------------\n",
    "\n",
    "timestamp = datetime.utcnow().strftime(\"%Y-%m-%d %H:%M:%S UTC\")\n",
    "\n",
    "memory_entry = {\n",
    "    \"timestamp\": timestamp,\n",
    "    \"motif\": reflection_motif,\n",
    "    \"type\": \"reflection\",\n",
    "    \"source\": reflection_source,\n",
    "    \"content\": reflection_content\n",
    "}\n",
    "\n",
    "print(f\"Adding new memory entry for motif: '{reflection_motif}'...\")\n",
    "append_yaml_list(ECHO_MEMORY_PATH, memory_entry) # Use our helper to append\n",
    "\n",
    "# Update motif pressure for the selected motif\n",
    "current_pressure_data = load_yaml(MOTIF_PRESSURE_PATH)\n",
    "if 'motif_pressure' not in current_pressure_data:\n",
    "    current_pressure_data['motif_pressure'] = {}\n",
    "\n",
    "current_pressure_data['motif_pressure'][reflection_motif] = current_pressure_data['motif_pressure'].get(reflection_motif, 0) + 1\n",
    "save_yaml(MOTIF_PRESSURE_PATH, current_pressure_data) # Save updated pressure\n",
    "\n",
    "# Log to journal\n",
    "log_line = f\"- [{timestamp}] Reflection logged for motif **{reflection_motif}** by '{reflection_source}'.\\n\"\n",
    "with open(JOURNAL_LOG_PATH, 'a') as f:\n",
    "    f.write(log_line)\n",
    "\n",
    "print(\"\u2705 Reflection successfully logged, motif pressure updated, and journal entry created.\")\n",
    "\n",
    "display(Markdown(\"### Updated ECHO Memory (Last 5 Entries)\"))\n",
    "updated_echo_memory = load_yaml(ECHO_MEMORY_PATH)\n",
    "if updated_echo_memory:\n",
    "    display(pd.DataFrame(updated_echo_memory).tail())\n",
    "\n",
    "display(Markdown(\"### Updated Motif Pressure\"))\n",
    "updated_motif_pressure = load_yaml(MOTIF_PRESSURE_PATH)\n",
    "if updated_motif_pressure and 'motif_pressure' in updated_motif_pressure:\n",
    "    display(pd.DataFrame.from_dict(updated_motif_pressure['motif_pressure'], orient='index', columns=['Pressure']))\n"
   ]
  },
  {
   "cell_type": "code",
   "metadata": {},
   "source": [
    "# 5.2 Run Diagnostic Checks (`echo_diagnostic.py`)\n",
    "from runtime.echo_diagnostic import run_diagnostics\n",
    "\n",
    "display(Markdown(\"### Running ECHO System Diagnostics\"))\n",
    "print(\"Initiating system health checks...\")\n",
    "try:\n",
    "    # The run_diagnostics function in echo_diagnostic.py prints directly.\n",
    "    # We'll just call it and capture its output if needed, but for now, direct print is fine.\n",
    "    run_diagnostics(PROJECT_ROOT) # Assuming run_diagnostics can take a root path or is self-aware\n",
    "    print(\"\\n\u2705 Diagnostics completed. Check output above for any warnings or errors.\")\n",
    "except Exception as e:\n",
    "    print(f\"Error running diagnostics: {e}\")\n"
   ]
  },
  {
   "cell_type": "code",
   "metadata": {},
   "source": [
    "# 5.3 Generate Prompts with Prompt Engine (`echo_prompt_engine.py`)\n",
    "from runtime.echo_prompt_engine import build_prompt\n",
    "\n",
    "display(Markdown(\"### Interactive Prompt Generation\"))\n",
    "\n",
    "# --- User Input ---\n",
    "target_motif = \"emergent_cognition\"\n",
    "prompt_mode = \"goal\" # Options: \"default\", \"friction\", \"goal\"\n",
    "# ------------------\n",
    "\n",
    "generated_prompt = build_prompt(target_motif, prompt_mode)\n",
    "print(f\"Motif: '{target_motif}'\")\n",
    "print(f\"Mode: '{prompt_mode}'\")\n",
    "print(f\"\\nGenerated Prompt: '{generated_prompt}'\")\n"
   ]
  },
  {
   "cell_type": "markdown",
   "metadata": {},
   "source": [
    "## \ud83d\udcca 6. Visualization & Analysis\n",
    "Visualizing key metrics like motif pressure helps in understanding the dynamic state of the ECHO.core system."
   ]
  },
  {
   "cell_type": "code",
   "metadata": {},
   "source": [
    "# 6.1 Visualize Current Motif Pressure\n",
    "display(Markdown(\"### Current Motif Pressure Visualization\"))\n",
    "\n",
    "motif_pressure_data = load_yaml(MOTIF_PRESSURE_PATH)\n",
    "\n",
    "if motif_pressure_data and 'motif_pressure' in motif_pressure_data and motif_pressure_data['motif_pressure']:\n",
    "    motifs = list(motif_pressure_data['motif_pressure'].keys())\n",
    "    values = [motif_pressure_data['motif_pressure'][m] for m in motifs]\n",
    "\n",
    "    # Sort for better visualization\n",
    "    sorted_motifs = [m for m, v in sorted(zip(motifs, values), key=lambda item: item[1], reverse=True)]\n",
    "    sorted_values = [v for m, v in sorted(zip(motifs, values), key=lambda item: item[1], reverse=True)]\n",
    "\n",
    "    plt.figure(figsize=(12, max(6, len(motifs) * 0.5)))\n",
    "    plt.barh(sorted_motifs, sorted_values, color='skyblue')\n",
    "    plt.xlabel(\"Pressure Count\")\n",
    "    plt.ylabel(\"Motif\")\n",
    "    plt.title(\"\ud83d\udd0d Current Motif Pressure Levels\")\n",
    "    plt.gca().invert_yaxis() # Display highest pressure at the top\n",
    "    plt.grid(axis='x', linestyle='--', alpha=0.7)\n",
    "    plt.tight_layout() # Adjust layout to prevent labels from overlapping\n",
    "    plt.show()\n",
    "else:\n",
    "    print(\"No motif pressure data available to visualize or MOTIF_PRESSURE.yaml is empty/malformed.\")\n"
   ]
  },
  {
   "cell_type": "code",
   "metadata": {},
   "source": [
    "# 6.2 Visualize Agent Weights\n",
    "display(Markdown(\"### Agent Weights Visualization\"))\n",
    "\n",
    "agent_state_data = load_yaml(AGENT_STATE_PATH)\n",
    "\n",
    "if agent_state_data:\n",
    "    agents = list(agent_state_data.keys())\n",
    "    weights = [agent_state_data[a]['weight'] if isinstance(agent_state_data[a], dict) else agent_state_data[a] for a in agents]\n",
    "\n",
    "    plt.figure(figsize=(10, 5))\n",
    "    plt.bar(agents, weights, color='lightcoral')\n",
    "    plt.xlabel(\"Agent\")\n",
    "    plt.ylabel(\"Weight\")\n",
    "    plt.title(\"\u2696\ufe0f Current Agent Weights\")\n",
    "    plt.ylim(0, 1.1) # Weights are typically between 0 and 1\n",
    "    plt.grid(axis='y', linestyle='--', alpha=0.7)\n",
    "    plt.tight_layout()\n",
    "    plt.show()\n",
    "else:\n",
    "    print(\"No agent state data available to visualize or AGENT_STATE.yaml is empty/malformed.\")\n"
   ]
  },
  {
   "cell_type": "markdown",
   "metadata": {},
   "source": [
    "## \ud83d\udc19 7. GitHub Integration (Local Workflow)\n",
    "This section explains how this Jupyter Notebook integrates with your local `ECHO.core` GitHub repository clone and provides basic `git` commands you might use within the notebook environment to manage your changes."
   ]
  },
  {
   "cell_type": "markdown",
   "metadata": {},
   "source": [
    "This Jupyter notebook is designed to be run within a locally cloned `urboi-jereme/ECHO.core` repository. Any changes you make to the YAML files (e.g., by logging reflections, or agent modulations) or to this notebook itself will be reflected in your local file system.\n",
    "\n",
    "To synchronize these changes with your GitHub repository, you'll use standard Git commands. You can execute these commands directly from within the Jupyter notebook cells by prefixing them with an exclamation mark (`!`):"
   ]
  },
  {
   "cell_type": "code",
   "metadata": {},
   "source": [
    "# 7.1 Check Git Status\n",
    "display(Markdown(\"### Check Repository Status\"))\n",
    "print(\"Checking for changes in your local repository...\")\n",
    "!git status\n"
   ]
  },
  {
   "cell_type": "code",
   "metadata": {},
   "source": [
    "# 7.2 Pull Latest Changes (Important before making local changes)\n",
    "display(Markdown(\"### Pull Latest Changes\"))\n",
    "print(\"Pulling the latest changes from the remote repository...\")\n",
    "# It's good practice to pull before you start making changes to avoid merge conflicts.\n",
    "!git pull origin main # Assuming 'main' is your default branch\n"
   ]
  },
  {
   "cell_type": "code",
   "metadata": {},
   "source": [
    "# 7.3 Stage Changes\n",
    "display(Markdown(\"### Stage Your Changes\"))\n",
    "print(\"Staging modified memory files and this notebook...\")\n",
    "# Add specific files or all changed files\n",
    "!git add memory/ECHO_MEMORY.yaml\n",
    "!git add memory/MOTIF_PRESSURE.yaml\n",
    "!git add memory/AGENT_STATE.yaml # If modulated\n",
    "!git add journal/ECHO_LOG.md\n",
    "# If you've modified this notebook itself, add it too:\n",
    "!git add echo_interactive_workbench.ipynb\n",
    "\n",
    "print(\"Review staged changes:\")\n",
    "!git status\n"
   ]
  },
  {
   "cell_type": "code",
   "metadata": {},
   "source": [
    "# 7.4 Commit Changes\n",
    "display(Markdown(\"### Commit Your Changes\"))\n",
    "\n",
    "# --- User Input (customize your commit message) ---\n",
    "commit_message = \"Feat: Logged new reflection and updated motif pressure via workbench notebook.\" # Describe your changes\n",
    "# --------------------------------------------------\n",
    "\n",
    "print(f\"Committing with message: '{commit_message}'\")\n",
    "!git commit -m \"{commit_message}\"\n",
    "\n",
    "print(\"\\nView commit history:\")\n",
    "!git log --oneline -5\n"
   ]
  },
  {
   "cell_type": "code",
   "metadata": {},
   "source": [
    "# 7.5 Push Changes to GitHub\n",
    "display(Markdown(\"### Push Changes to GitHub\"))\n",
    "print(\"Pushing your committed changes to the remote GitHub repository...\")\n",
    "!git push origin main # Assuming 'main' is your default branch\n",
    "print(\"\\n\u2705 Changes pushed to GitHub. Check your repository online!\")\n"
   ]
  },
  {
   "cell_type": "markdown",
   "metadata": {},
   "source": [
    "---",
    "## \ud83c\udf89 Conclusion & Next Steps",
    "This interactive workbench provides a solid foundation for engaging with the ECHO.core system. You can now deeply inspect its state, interact with its agents, and simulate workflows. ",
    "\n",
    "**Further Exploration:**\n",
    "- **Experiment with Agents**: Modify agent logic in the `agents/` directory and re-run cells to see the effects.\n",
    "- **Develop New Workflows**: Create new cells to automate sequences of agent interactions or data transformations.\n",
    "- **Custom Visualizations**: Use `matplotlib`, `seaborn`, or `plotly` to create more advanced visualizations of memory trends or agent performance.\n",
    "- **Integrate `echo_daemon.py`**: For long-running experiments, consider running `echo_daemon.py` in a separate process while monitoring its effects and memory changes from this notebook.\n",
    "- **Extend Memory**: Introduce new YAML files or structures to expand the system's memory and reflect on them.\n",
    "- **Implement New Agents**: Follow the `agents/` pattern to add your own specialized agents and integrate them into the `echo_main.py` loop or call them directly here."
   ]
  }
 ],
 "metadata": {
  "kernelspec": {
   "display_name": "Python 3",
   "language": "python",
   "name": "python3"
  },
  "language_info": {
   "name": "python",
   "version": "3.10"
  }
 },
 "nbformat": 4,
 "nbformat_minor": 2
}
