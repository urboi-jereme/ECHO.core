from pathlib import Path

# Define the path where the notebook will be saved
notebook_path = Path("/mnt/data/echo_reflection.ipynb")

# Define the notebook structure
notebook_cells = [
    {
        "cell_type": "markdown",
        "metadata": {},
        "source": [
            "# 🧠 ECHO Reflection Notebook\n",
            "This notebook lets you:\n",
            "- Select a **motif**\n",
            "- Write a **reflection**\n",
            "- Log it to `ECHO_MEMORY.yaml`\n",
            "- Increment **motif pressure**\n",
            "- View the updated memory and pressure\n",
            "\n",
            "Begin below 👇"
        ]
    },
    {
        "cell_type": "code",
        "metadata": {},
        "source": [
            "# ✅ Setup: Imports and Paths\n",
            "import yaml, os\n",
            "from datetime import datetime\n",
            "from IPython.display import display, Markdown\n",
            "import matplotlib.pyplot as plt\n\n",
            "# Define paths\n",
            "ROOT = os.getcwd()\n",
            "MEMORY_PATH = os.path.join(ROOT, \"memory\", \"ECHO_MEMORY.yaml\")\n",
            "PRESSURE_PATH = os.path.join(ROOT, \"memory\", \"MOTIF_PRESSURE.yaml\")\n",
            "GOALS_PATH = os.path.join(ROOT, \"memory\", \"GOALS.yaml\")\n",
            "JOURNAL_PATH = os.path.join(ROOT, \"journal\", \"ECHO_LOG.md\")"
        ]
    },
    {
        "cell_type": "code",
        "metadata": {},
        "source": [
            "# 📌 Load active motifs from GOALS.yaml\n",
            "with open(GOALS_PATH, 'r') as f:\n",
            "    goals = yaml.safe_load(f)\n",
            "\n",
            "active_motifs = []\n",
            "for goal in goals:\n",
            "    active_motifs.extend(goal.get('motifs', []))\n",
            "\n",
            "active_motifs = sorted(set(active_motifs))\n",
            "display(Markdown(\"### 🎯 Active Motifs:\"))\n",
            "for m in active_motifs:\n",
            "    print(f\"• {m}\")"
        ]
    },
    {
        "cell_type": "code",
        "metadata": {},
        "source": [
            "# ✍️ Write your reflection and select motif\n",
            "selected_motif = \"resonance_vs_resistance\"  # ← Change this\n",
            "response_text = '''I’m reflecting on the pattern I experience between internal resonance and resistance...'''\n",
            "timestamp = datetime.utcnow().strftime(\"%Y-%m-%d %H:%M:%S UTC\")\n",
            "\n",
            "# Build memory entry\n",
            "memory_entry = {\n",
            "    \"timestamp\": timestamp,\n",
            "    \"motif\": selected_motif,\n",
            "    \"type\": \"reflection\",\n",
            "    \"source\": \"user\",\n",
            "    \"content\": response_text\n",
            "}\n",
            "\n",
            "# Append to memory\n",
            "with open(MEMORY_PATH, 'a') as f:\n",
            "    yaml.dump([memory_entry], f, sort_keys=False)\n",
            "\n",
            "# Update pressure\n",
            "pressure = {}\n",
            "if os.path.exists(PRESSURE_PATH):\n",
            "    with open(PRESSURE_PATH, 'r') as f:\n",
            "        pressure = yaml.safe_load(f) or {}\n",
            "pressure[selected_motif] = pressure.get(selected_motif, 0) + 1\n",
            "with open(PRESSURE_PATH, 'w') as f:\n",
            "    yaml.dump(pressure, f)\n",
            "\n",
            "# Log event\n",
            "log_line = f\"- [{timestamp}] Reflection logged for motif **{selected_motif}**\\n\"\n",
            "os.makedirs(os.path.dirname(JOURNAL_PATH), exist_ok=True)\n",
            "with open(JOURNAL_PATH, 'a') as f:\n",
            "    f.write(log_line)\n",
            "\n",
            "print(\"✅ Reflection logged and pressure updated.\")"
        ]
    },
    {
        "cell_type": "code",
        "metadata": {},
        "source": [
            "# 📊 Visualize updated motif pressure\n",
            "with open(PRESSURE_PATH, 'r') as f:\n",
            "    pressure = yaml.safe_load(f) or {}\n",
            "\n",
            "motifs = list(pressure.keys())\n",
            "values = [pressure[m] for m in motifs]\n",
            "\n",
            "plt.figure(figsize=(10,4))\n",
            "plt.barh(motifs, values)\n",
            "plt.xlabel(\"Pressure\")\n",
            "plt.title(\"🔍 Motif Pressure Levels\")\n",
            "plt.grid(True)\n",
            "plt.show()"
        ]
    }
]

# Create the notebook structure
notebook = {
    "cells": [{"cell_type": cell["cell_type"], "metadata": cell["metadata"], "source": cell["source"]} for cell in notebook_cells],
    "metadata": {
        "kernelspec": {
            "display_name": "Python 3",
            "language": "python",
            "name": "python3"
        },
        "language_info": {
            "name": "python",
            "version": "3.10"
        }
    },
    "nbformat": 4,
    "nbformat_minor": 2
}

# Save the notebook
import json
with open(notebook_path, "w") as f:
    json.dump(notebook, f)

notebook_path.name
